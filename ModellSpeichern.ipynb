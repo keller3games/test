{
  "nbformat": 4,
  "nbformat_minor": 0,
  "metadata": {
    "colab": {
      "name": "ModellSpeichern.ipynb",
      "provenance": [],
      "collapsed_sections": [
        "Rbphdr9_QxX9",
        "7dpv9GgtR9Kf",
        "Ee_h6M9NUO99",
        "yTX6OrBGUtLF",
        "c8HBIVEHfIsk",
        "Ic6zN-AzWY8T"
      ],
      "toc_visible": true,
      "include_colab_link": true
    },
    "kernelspec": {
      "name": "python3",
      "display_name": "Python 3"
    }
  },
  "cells": [
    {
      "cell_type": "markdown",
      "metadata": {
        "id": "view-in-github",
        "colab_type": "text"
      },
      "source": [
        "<a href=\"https://colab.research.google.com/github/keller3games/test/blob/main/ModellSpeichern.ipynb\" target=\"_parent\"><img src=\"https://colab.research.google.com/assets/colab-badge.svg\" alt=\"Open In Colab\"/></a>"
      ]
    },
    {
      "cell_type": "markdown",
      "metadata": {
        "id": "-FyM7uOJdMob"
      },
      "source": [
        "# Modelle speichern und laden\n"
      ]
    },
    {
      "cell_type": "markdown",
      "metadata": {
        "id": "9SMLgbITwc0I"
      },
      "source": [
        "## Modell kontruieren und trainieren:\n",
        "\n",
        "Zunächst konstruieren und trainieren wir ein einfaches Modell zur Zeichenerkennung – Detaillierte Diksussion siehe [hier](https://colab.research.google.com/drive/1CAOf4_om07EnqskF3HzzRAuKFrogUONS?usp=sharing))"
      ]
    },
    {
      "cell_type": "code",
      "metadata": {
        "id": "XzKQZNCHMdwO",
        "colab": {
          "base_uri": "https://localhost:8080/"
        },
        "outputId": "a112d7ab-78d5-4121-d144-eee1b39b6599"
      },
      "source": [
        "import numpy as np\n",
        "import matplotlib.pyplot as plt\n",
        "\n",
        "from keras.datasets import mnist\n",
        "\n",
        "(x_train, y_train), (x_test, y_test) = mnist.load_data()\n",
        "\n",
        "x_train = x_train.astype(\"float32\") / 255\n",
        "x_test = x_test.astype(\"float32\") / 255\n",
        "\n",
        "from keras.utils import to_categorical\n",
        "\n",
        "NUM_CLASSES = 10\n",
        "\n",
        "y_train = to_categorical(y_train, NUM_CLASSES)\n",
        "y_test = to_categorical(y_test, NUM_CLASSES)\n",
        "\n",
        "from keras.layers import Input, Flatten, Dense, Softmax\n",
        "from keras.models import Model\n",
        "\n",
        "input_layer = Input(shape=(28,28))\n",
        "x = Flatten()(input_layer)\n",
        "x = Dense(units=500, activation='sigmoid')(x)\n",
        "x = Dense(units=100, activation='sigmoid')(x)\n",
        "output_layer = Dense(units=NUM_CLASSES, activation = 'softmax')(x)\n",
        "model = Model(input_layer, output_layer)\n",
        "\n",
        "from keras.optimizers import Adam\n",
        "\n",
        "opt = Adam(lr=0.0005)\n",
        "\n",
        "model.compile(loss='categorical_crossentropy',\n",
        "              optimizer=opt,\n",
        "              metrics=['accuracy'])\n",
        "\n",
        "model.fit(x_train, \n",
        "          y_train,\n",
        "          batch_size=32,\n",
        "          epochs=10,\n",
        "          shuffle=True,\n",
        "          validation_data = (x_test, y_test))"
      ],
      "execution_count": null,
      "outputs": [
        {
          "output_type": "stream",
          "text": [
            "Downloading data from https://storage.googleapis.com/tensorflow/tf-keras-datasets/mnist.npz\n",
            "11493376/11490434 [==============================] - 1s 0us/step\n",
            "Epoch 1/10\n",
            "1875/1875 [==============================] - 10s 5ms/step - loss: 0.8431 - accuracy: 0.7855 - val_loss: 0.2413 - val_accuracy: 0.9302\n",
            "Epoch 2/10\n",
            "1875/1875 [==============================] - 9s 5ms/step - loss: 0.2244 - accuracy: 0.9346 - val_loss: 0.1739 - val_accuracy: 0.9488\n",
            "Epoch 3/10\n",
            "1875/1875 [==============================] - 9s 5ms/step - loss: 0.1544 - accuracy: 0.9548 - val_loss: 0.1350 - val_accuracy: 0.9601\n",
            "Epoch 4/10\n",
            "1875/1875 [==============================] - 9s 5ms/step - loss: 0.1170 - accuracy: 0.9646 - val_loss: 0.1070 - val_accuracy: 0.9674\n",
            "Epoch 5/10\n",
            "1875/1875 [==============================] - 10s 5ms/step - loss: 0.0897 - accuracy: 0.9739 - val_loss: 0.0891 - val_accuracy: 0.9716\n",
            "Epoch 6/10\n",
            "1875/1875 [==============================] - 10s 6ms/step - loss: 0.0682 - accuracy: 0.9798 - val_loss: 0.0848 - val_accuracy: 0.9742\n",
            "Epoch 7/10\n",
            "1875/1875 [==============================] - 10s 5ms/step - loss: 0.0552 - accuracy: 0.9834 - val_loss: 0.0759 - val_accuracy: 0.9763\n",
            "Epoch 8/10\n",
            "1875/1875 [==============================] - 10s 6ms/step - loss: 0.0448 - accuracy: 0.9871 - val_loss: 0.0684 - val_accuracy: 0.9781\n",
            "Epoch 9/10\n",
            "1875/1875 [==============================] - 10s 5ms/step - loss: 0.0347 - accuracy: 0.9899 - val_loss: 0.0687 - val_accuracy: 0.9783\n",
            "Epoch 10/10\n",
            "1875/1875 [==============================] - 10s 5ms/step - loss: 0.0301 - accuracy: 0.9914 - val_loss: 0.0657 - val_accuracy: 0.9795\n"
          ],
          "name": "stdout"
        },
        {
          "output_type": "execute_result",
          "data": {
            "text/plain": [
              "<tensorflow.python.keras.callbacks.History at 0x7f828cf29400>"
            ]
          },
          "metadata": {
            "tags": []
          },
          "execution_count": 1
        }
      ]
    },
    {
      "cell_type": "markdown",
      "metadata": {
        "id": "Ic6zN-AzWY8T"
      },
      "source": [
        "## Modell testen\n"
      ]
    },
    {
      "cell_type": "code",
      "metadata": {
        "id": "KqNQfqqNW5OK",
        "colab": {
          "base_uri": "https://localhost:8080/",
          "height": 813
        },
        "outputId": "3b0cb8c0-86d0-4d69-8f98-0aac5d737bdd"
      },
      "source": [
        "CLASSES = np.arange(10)\n",
        "\n",
        "indices = np.random.choice(range(10000), 3)\n",
        "arrays = x_test[indices]\n",
        "\n",
        "predictions = model.predict(arrays)\n",
        "\n",
        "predictions = CLASSES[np.argmax(predictions, axis = 1)]\n",
        "\n",
        "for idx, arr in enumerate(arrays):\n",
        "  plt.imshow(arrays[idx], cmap=\"gray\")\n",
        "  plt.show()\n",
        "  print(predictions[idx])"
      ],
      "execution_count": null,
      "outputs": [
        {
          "output_type": "display_data",
          "data": {
            "image/png": "[encoded data removed]",
            "text/plain": [
              "<Figure size 432x288 with 1 Axes>"
            ]
          },
          "metadata": {
            "tags": [],
            "needs_background": "light"
          }
        },
        {
          "output_type": "stream",
          "text": [
            "8\n"
          ],
          "name": "stdout"
        },
        {
          "output_type": "display_data",
          "data": {
            "image/png": "[encoded data removed]",
            "text/plain": [
              "<Figure size 432x288 with 1 Axes>"
            ]
          },
          "metadata": {
            "tags": [],
            "needs_background": "light"
          }
        },
        {
          "output_type": "stream",
          "text": [
            "0\n"
          ],
          "name": "stdout"
        },
        {
          "output_type": "display_data",
          "data": {
            "image/png": "[encoded data removed]",
            "text/plain": [
              "<Figure size 432x288 with 1 Axes>"
            ]
          },
          "metadata": {
            "tags": [],
            "needs_background": "light"
          }
        },
        {
          "output_type": "stream",
          "text": [
            "7\n"
          ],
          "name": "stdout"
        }
      ]
    },
    {
      "cell_type": "markdown",
      "metadata": {
        "id": "B9FeF9vKx3MZ"
      },
      "source": [
        "## Modell speichern:\n",
        "\n",
        "Das Modell hat eine `save()` Methode:"
      ]
    },
    {
      "cell_type": "code",
      "metadata": {
        "id": "2Zntpq_5xVIv"
      },
      "source": [
        "model.save('mein_modell.h5')"
      ],
      "execution_count": null,
      "outputs": []
    },
    {
      "cell_type": "markdown",
      "metadata": {
        "id": "VL8QSjdAyhTl"
      },
      "source": [
        "## Modell laden und geladenes Modell testen:"
      ]
    },
    {
      "cell_type": "code",
      "metadata": {
        "id": "WROOUJmWyk1h"
      },
      "source": [
        "from tensorflow.keras.models import load_model\n",
        "model_geladen = load_model('mein_modell.h5')\n",
        "\n",
        "# Das geladene Modell funktioniert:\n",
        "predictions = model_geladen.predict(arrays)\n",
        "\n",
        "predictions = CLASSES[np.argmax(predictions, axis = 1)]\n",
        "\n",
        "for idx, arr in enumerate(arrays):\n",
        "  plt.imshow(arrays[idx], cmap=\"gray\")\n",
        "  plt.show()\n",
        "  print(predictions[idx])"
      ],
      "execution_count": null,
      "outputs": []
    },
    {
      "cell_type": "markdown",
      "metadata": {
        "id": "p8XXILqV0Yay"
      },
      "source": [
        "Selbstverständlich kann auch das geladene Modell weiter trainiert werden:"
      ]
    },
    {
      "cell_type": "code",
      "metadata": {
        "id": "g05cu7ei0Qqs"
      },
      "source": [
        "model_geladen.fit(x_train, \n",
        "                  y_train,\n",
        "                  batch_size=32,\n",
        "                  epochs=10,\n",
        "                  shuffle=True,\n",
        "                  validation_data = (x_test, y_test))"
      ],
      "execution_count": null,
      "outputs": []
    }
  ]
}